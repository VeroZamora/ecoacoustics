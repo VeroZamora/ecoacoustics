{
 "cells": [
  {
   "cell_type": "markdown",
   "id": "7869cd42-496e-4ed9-a964-ffa318d8f9ab",
   "metadata": {},
   "source": [
    "## Procesamiento de señales en python\n",
    "\n",
    "Acerca de python:\n",
    "\n",
    "*Python is a widely-used general-purpose, high-level programming language. It was initially designed by Guido van Rossum in 1991 and developed by Python Software Foundation. It was mainly developed for emphasis on code readability, and its syntax allows programmers to express concepts in fewer lines of code.*\n",
    "\n",
    "*In the late 1980s, history was about to be written. It was that time when working on Python started. Soon after that, Guido Van Rossum began doing its application-based work in December of 1989 at Centrum Wiskunde & Informatica (CWI) which is situated in the Netherlands.*\n"
   ]
  },
  {
   "cell_type": "markdown",
   "id": "55caf04e-2a66-4090-841b-90bd99494b8a",
   "metadata": {},
   "source": [
    "# Tipos básicos en python\n",
    "## Tipos simples\n",
    "\n",
    "Los tipos simples son aquellos que se corresponden con *escalares*, es decir, objetos definidos por un bloque de memoria único, aunque posiblemente de longitud variable, como ocurre en las cadenas de caracteres. A continuación se presentan ejemplos de los tipos simples más usados"
   ]
  },
  {
   "cell_type": "markdown",
   "id": "257b2277-cedb-4a2e-9bf1-0ec5834c680b",
   "metadata": {},
   "source": [
    "**int**: representa números enteros y pueden existir con signo, sin signo y de distinta longitud en bytes."
   ]
  },
  {
   "cell_type": "code",
   "execution_count": 1,
   "id": "45c920e2-c861-40f0-b043-e58b268f53d3",
   "metadata": {},
   "outputs": [
    {
     "data": {
      "text/plain": [
       "int"
      ]
     },
     "execution_count": 1,
     "metadata": {},
     "output_type": "execute_result"
    }
   ],
   "source": [
    "type(-10)"
   ]
  },
  {
   "cell_type": "markdown",
   "id": "1bc956be-3303-43b4-93bc-5e5bd865c117",
   "metadata": {},
   "source": [
    "**float**: representa números reales con punto decimal de todo tipo."
   ]
  },
  {
   "cell_type": "code",
   "execution_count": 2,
   "id": "45a89cbe-e7bf-4803-8ecc-07465c8cae4c",
   "metadata": {},
   "outputs": [
    {
     "data": {
      "text/plain": [
       "float"
      ]
     },
     "execution_count": 2,
     "metadata": {},
     "output_type": "execute_result"
    }
   ],
   "source": [
    "type(-10.3)"
   ]
  },
  {
   "cell_type": "markdown",
   "id": "09e5e065-89a9-4718-ad8b-2f427aeadce4",
   "metadata": {},
   "source": [
    "**str**: representa caracteres o cadenas de caracteres."
   ]
  },
  {
   "cell_type": "code",
   "execution_count": 3,
   "id": "f5a2cd71-6982-4bd1-82d0-ddace8fa3455",
   "metadata": {},
   "outputs": [
    {
     "data": {
      "text/plain": [
       "str"
      ]
     },
     "execution_count": 3,
     "metadata": {},
     "output_type": "execute_result"
    }
   ],
   "source": [
    "type('ecoacústica')"
   ]
  },
  {
   "cell_type": "code",
   "execution_count": 4,
   "id": "8fc3829c-bbc1-4937-8700-54630d7e35a7",
   "metadata": {},
   "outputs": [
    {
     "name": "stdout",
     "output_type": "stream",
     "text": [
      "a\n"
     ]
    }
   ],
   "source": [
    "x = 'ecoacústica'\n",
    "print(x[3])"
   ]
  },
  {
   "cell_type": "markdown",
   "id": "e43e5ab1-bcfd-4b93-9b48-de9a99bc2d58",
   "metadata": {},
   "source": [
    "**bool**: representa valores booleanos, es decir, en el conjunto {verdadero, falso}"
   ]
  },
  {
   "cell_type": "code",
   "execution_count": 5,
   "id": "74bb6ba1-e585-4acb-9d21-a9a2205d88ec",
   "metadata": {},
   "outputs": [
    {
     "data": {
      "text/plain": [
       "bool"
      ]
     },
     "execution_count": 5,
     "metadata": {},
     "output_type": "execute_result"
    }
   ],
   "source": [
    "type(False)"
   ]
  },
  {
   "cell_type": "markdown",
   "id": "0fd5b3bc-0e3c-4fb5-afdb-ffdce73e46ec",
   "metadata": {},
   "source": [
    "## Tipos compuestos\n",
    "\n",
    "Los tipos compuestos son aquellos que representan estructuras integradas por otros tipos, ya sea simples o compuestos. Dichas estructuras pueden tener algún tipo de orden o referencia para los elementos internos, dependiendo del tipo."
   ]
  },
  {
   "cell_type": "markdown",
   "id": "ff780acd-9c91-4e8b-8a8f-828e32294da0",
   "metadata": {},
   "source": [
    "**list**: representa listas de valores de cualquier tipo, no necesariamente el mismo."
   ]
  },
  {
   "cell_type": "code",
   "execution_count": 6,
   "id": "05463011-21c4-4063-a842-9ef6a291767a",
   "metadata": {},
   "outputs": [
    {
     "data": {
      "text/plain": [
       "list"
      ]
     },
     "execution_count": 6,
     "metadata": {},
     "output_type": "execute_result"
    }
   ],
   "source": [
    "type([1,2,3,5])"
   ]
  },
  {
   "cell_type": "code",
   "execution_count": 7,
   "id": "d76e834e-549f-4805-8b9a-8d86d1f4c805",
   "metadata": {},
   "outputs": [
    {
     "data": {
      "text/plain": [
       "list"
      ]
     },
     "execution_count": 7,
     "metadata": {},
     "output_type": "execute_result"
    }
   ],
   "source": [
    "type([\"perro\", \"gato\", 2, 4, [\"a\", 1.4]])"
   ]
  },
  {
   "cell_type": "markdown",
   "id": "5d24d445-ed74-4ffb-a434-1210aa17d3a6",
   "metadata": {},
   "source": [
    "Las listas pueden ser consultadas a través de índices siguiendo el órden de izqierda a derecha además de que es posible producir copias de sublistas indicando los índices de inicio y término:"
   ]
  },
  {
   "cell_type": "code",
   "execution_count": 8,
   "id": "4eb410e0-ae4c-41cc-a583-b4b776fce828",
   "metadata": {},
   "outputs": [
    {
     "name": "stdout",
     "output_type": "stream",
     "text": [
      "luz\n"
     ]
    }
   ],
   "source": [
    "x = [5,6,7,\"luz\",5.5]\n",
    "print(x[3])"
   ]
  },
  {
   "cell_type": "code",
   "execution_count": 9,
   "id": "4773a494-483c-42d1-9fbd-52e2b2f74dd8",
   "metadata": {},
   "outputs": [
    {
     "name": "stdout",
     "output_type": "stream",
     "text": [
      "[6, 7, 'luz']\n"
     ]
    }
   ],
   "source": [
    "print(x[1:4])"
   ]
  },
  {
   "cell_type": "markdown",
   "id": "02a38632-8ca5-4289-a115-fb577bc108fa",
   "metadata": {},
   "source": [
    "Toda lista es *mutable*, lo cual quiere decir que es posible cambiar los elementos individualmente:"
   ]
  },
  {
   "cell_type": "code",
   "execution_count": 10,
   "id": "d20a97eb-a5e0-4c9c-a65d-076c977fe34d",
   "metadata": {},
   "outputs": [],
   "source": [
    "x[1] = \"sombra\""
   ]
  },
  {
   "cell_type": "code",
   "execution_count": 11,
   "id": "fe3a84e1-fe3a-4b04-ae6e-d07e9b752af8",
   "metadata": {},
   "outputs": [
    {
     "name": "stdout",
     "output_type": "stream",
     "text": [
      "[5, 'sombra', 7, 'luz', 5.5]\n"
     ]
    }
   ],
   "source": [
    "print(x)"
   ]
  },
  {
   "cell_type": "markdown",
   "id": "79befa97-f877-4511-bba5-7f46db510f19",
   "metadata": {},
   "source": [
    "Para cualquier lista, es posible obtener el número de elementos dentro de la misma utilizando la función *len*, que es parte de las funciones básicas de python."
   ]
  },
  {
   "cell_type": "code",
   "execution_count": 12,
   "id": "15aec74c-d090-4e11-9a26-868b6b357754",
   "metadata": {},
   "outputs": [
    {
     "name": "stdout",
     "output_type": "stream",
     "text": [
      "5\n"
     ]
    }
   ],
   "source": [
    "print(len(x))"
   ]
  },
  {
   "cell_type": "markdown",
   "id": "a9dd8742-fd43-48ef-b78c-5609e4b24ab6",
   "metadata": {},
   "source": [
    "**tuple**: al igual que *list*, representa listas de valores consultables por índices según el orden habitual de izquierda a derecha, con la diferencia de que dichas listas *no son mutables*, por lo que intentar modificar una tupla produce un error. "
   ]
  },
  {
   "cell_type": "code",
   "execution_count": 13,
   "id": "d5187f5f-b2bd-47f4-a8b6-6a138bd9f486",
   "metadata": {},
   "outputs": [],
   "source": [
    "y = (1,2,3,'bat')"
   ]
  },
  {
   "cell_type": "code",
   "execution_count": 14,
   "id": "6c928f5e-ed9f-433a-88a3-40624c1f58c0",
   "metadata": {},
   "outputs": [
    {
     "name": "stdout",
     "output_type": "stream",
     "text": [
      "bat\n"
     ]
    }
   ],
   "source": [
    "print(y[3])"
   ]
  },
  {
   "cell_type": "code",
   "execution_count": 15,
   "id": "c95c3e7e-772f-4e62-9f8a-91426d6a5c18",
   "metadata": {},
   "outputs": [
    {
     "ename": "TypeError",
     "evalue": "'tuple' object does not support item assignment",
     "output_type": "error",
     "traceback": [
      "\u001b[0;31m---------------------------------------------------------------------------\u001b[0m",
      "\u001b[0;31mTypeError\u001b[0m                                 Traceback (most recent call last)",
      "Cell \u001b[0;32mIn [15], line 1\u001b[0m\n\u001b[0;32m----> 1\u001b[0m \u001b[43my\u001b[49m\u001b[43m[\u001b[49m\u001b[38;5;241;43m3\u001b[39;49m\u001b[43m]\u001b[49m \u001b[38;5;241m=\u001b[39m \u001b[38;5;124m'\u001b[39m\u001b[38;5;124mbird\u001b[39m\u001b[38;5;124m'\u001b[39m\n",
      "\u001b[0;31mTypeError\u001b[0m: 'tuple' object does not support item assignment"
     ]
    }
   ],
   "source": [
    "y[3] = 'bird'"
   ]
  },
  {
   "cell_type": "markdown",
   "id": "779c4efe-c553-422b-abb0-a37d2b447eb4",
   "metadata": {},
   "source": [
    "Al igual que en las listas, la longitud de una tupla también se puede obtener con el método *len*"
   ]
  },
  {
   "cell_type": "code",
   "execution_count": null,
   "id": "7b056c7f-d995-4d31-8d7a-0928c6672307",
   "metadata": {},
   "outputs": [],
   "source": [
    "print(len(y))"
   ]
  },
  {
   "cell_type": "markdown",
   "id": "b7fb6c62-b382-43a0-a9dc-9a586b82fbcc",
   "metadata": {},
   "source": [
    "**dict**: los diccionarios representan estructuras a las que se puede acceder a través de llaves sin necesidad de algún tipo de orden (aunque es posible producir diccionarios ordenados). Dichas llaves pueden ser de cualquier tipo, siendo lo más común el uso de cadenas de caracteres."
   ]
  },
  {
   "cell_type": "code",
   "execution_count": null,
   "id": "2515a9bb-27fb-40f9-8319-fc6373bcecb6",
   "metadata": {},
   "outputs": [],
   "source": [
    "d = {\"Alberto\": 23, \"Julia\": 14, \"Martha\": 23}\n",
    "type(d)"
   ]
  },
  {
   "cell_type": "code",
   "execution_count": null,
   "id": "aa6e9db9-845d-4db9-b01b-4a0c281b2787",
   "metadata": {},
   "outputs": [],
   "source": [
    "print(d[\"Alberto\"])"
   ]
  },
  {
   "cell_type": "markdown",
   "id": "045f42c3-9638-4e4c-aa53-b01804f55e33",
   "metadata": {},
   "source": [
    "## Sintaxis y estructuras de control\n",
    "\n",
    "Las estructuras de control son formas de especificar *recursión*, ya sea a partir de una estructura iterable, como lo es una tupla o una lista, o según criterios de paro y continuación. Antes de pasar a definir estas ideas, es necesario mencionar algunas \"reglas\" básicas que nos ayudarán a aprender a leer y escribir código en python."
   ]
  },
  {
   "cell_type": "markdown",
   "id": "64530f6c-3c2e-4e2a-bf2e-857969ecee11",
   "metadata": {},
   "source": [
    "**1. Los bloques de código se definen por identación**: la identación, entendida como el número de espacios al inicio de una línea de código, mientras que en otros lenguajes de programación se usa únicamente para legibilidad, en python sirve para agrupar líneas que se ejecutan dentro de un mismo bloque."
   ]
  },
  {
   "cell_type": "code",
   "execution_count": null,
   "id": "480690cb-0a12-4ff8-a85c-b0e6e906326e",
   "metadata": {},
   "outputs": [],
   "source": [
    "if 6 > 5:\n",
    "    print(\"6 mayor que 5\")"
   ]
  },
  {
   "cell_type": "markdown",
   "id": "f3deae61-6777-4116-98db-8a2968ba0952",
   "metadata": {},
   "source": [
    "En el ejemplo anterior símbolo *:* inicia un bloque de código indicado por identación dentro del cual se ejecuta la función *print* con el mensaje correspondiente."
   ]
  },
  {
   "cell_type": "markdown",
   "id": "e25bba11-2f30-4949-80a9-8f5147a33171",
   "metadata": {},
   "source": [
    "**2. Un bloque de código no puede ser vacío**: cuando se abre un bloque de código usando el símbolo *:*, el intérprete espera al menos una línea dentro de dicho bloque, es decir, una línea con la identación correspondiente, como en el ejemplo de la celda 7."
   ]
  },
  {
   "cell_type": "code",
   "execution_count": null,
   "id": "bbf68bcd-3fcd-4b65-9c66-4d5f05b532ff",
   "metadata": {},
   "outputs": [],
   "source": [
    "if 6 > 5:\n",
    "print(\"6 mayor que 5\")"
   ]
  },
  {
   "cell_type": "markdown",
   "id": "fa53f1cb-2bb8-4694-9991-3ebee6c0fa37",
   "metadata": {},
   "source": [
    "En este caso, la ejecución de la función *print* no pertenece al bloque de código iniciado por la primera línea, por lo que dicho bloque queda vacío y el intérprete marca un error."
   ]
  },
  {
   "cell_type": "markdown",
   "id": "116ac0da-4164-4b1d-87bf-ffb07ab2b057",
   "metadata": {},
   "source": [
    "**3. La asignación de variables es no tipeada**: en python es posible crear variables y asignar valores si necesidad de especificar de forma explícita el tipo, como ocurre en otros lenguajes. Durante la interpretación del código, los tipos son inferidos en un proceso que puede consumir tiempo de cómputo, es por esa razón que en aplicaciones de cómputo de alto rendimiento en python se usen variables con tipos controlados."
   ]
  },
  {
   "cell_type": "code",
   "execution_count": null,
   "id": "786a0b6b-0486-4e7a-ae35-d096c9e8945c",
   "metadata": {},
   "outputs": [],
   "source": [
    "x = 3\n",
    "x"
   ]
  },
  {
   "cell_type": "code",
   "execution_count": null,
   "id": "d64147fc-490a-401d-abc8-8a99bbf520b6",
   "metadata": {},
   "outputs": [],
   "source": [
    "x = 'python'\n",
    "x"
   ]
  },
  {
   "cell_type": "code",
   "execution_count": null,
   "id": "869d02a5-dada-4910-a8d6-5ac206d6e08d",
   "metadata": {},
   "outputs": [],
   "source": [
    "x = False\n",
    "x"
   ]
  },
  {
   "cell_type": "markdown",
   "id": "5f90f677-63fb-4b88-9216-80f12b21073b",
   "metadata": {},
   "source": [
    "**4. Los tipos simples se pasan por valor**: los tipos simples como enteros flotantes, cadenas de caracteres y booleanos, se pasan *por valor*, lo cual quiere decir que en el contexto de una función, se crea una copia independiente de los datos que puede ser modificada sin que esto tenga consecuencias sobre la variable original."
   ]
  },
  {
   "cell_type": "code",
   "execution_count": null,
   "id": "9a6d512e-9245-4d45-b9cd-c1a88bfd00be",
   "metadata": {},
   "outputs": [],
   "source": [
    "def doble(valor):\n",
    "    valor *= 2\n",
    "    return valor\n",
    "\n",
    "n = 3\n",
    "print(doble(n))\n",
    "print(n)"
   ]
  },
  {
   "cell_type": "markdown",
   "id": "6420523e-9088-4d91-b006-dc1bc2ff16b7",
   "metadata": {},
   "source": [
    "**5. Los tipos compuestos se pasan por referencia**: los tipos compuestos, como listas, diccionarios y conjuntos, se pasan como una referencia a los lugares de memoria ocupados por los elementos más simples de su estructura. De esta manera, dentro de una función es posible modificar directamente estos lugares de memoria, con lo que los valores originales pueden resultar alterados."
   ]
  },
  {
   "cell_type": "code",
   "execution_count": null,
   "id": "aef2ae5f-5b92-4759-abeb-729651313933",
   "metadata": {},
   "outputs": [],
   "source": [
    "def doble_m(valores):\n",
    "    for i in range(len(valores)):\n",
    "        valores[i] *= 2\n",
    "    return valores\n",
    "\n",
    "N = [3,4,5]\n",
    "print(doble_m(N))\n",
    "print(N)"
   ]
  },
  {
   "cell_type": "markdown",
   "id": "91e83514-9224-40d5-8fcb-86daea4c16b8",
   "metadata": {},
   "source": [
    "Para preservar los valores originales de la variable *N* basta hacer una copia antes de aplicar los cambios. Hay muchas maneras de hacer copias de objetos en python, algunas de las cuales guardan cierto nivel de referencia para tipos muy complejos, algo que debe tenerse en mente.\n",
    "\n",
    "En el siguiente ejemplo se usa un *slice* completo de la lista original para producir una copia enteramente nueva:"
   ]
  },
  {
   "cell_type": "code",
   "execution_count": null,
   "id": "16adbddf-25f8-4ed1-899e-a9904d9d6aab",
   "metadata": {},
   "outputs": [],
   "source": [
    "N = [3,4,5]\n",
    "print(doble_m(N[:]))\n",
    "print(N)"
   ]
  },
  {
   "cell_type": "markdown",
   "id": "1e64d7d2-4727-44f0-8f06-d6bb32cc21eb",
   "metadata": {},
   "source": [
    "## Ciclo **for**\n",
    "\n",
    "Las estructuras tipo *for* sirven para especificar un proceso de recursión que avanza sobre los elementos de un iterador, el cual puede ser, por ejemplo, una lista, una tupla o las llaves de un diccionario. A continuación se presentan tres formas de iterar sobre una lista:"
   ]
  },
  {
   "cell_type": "code",
   "execution_count": null,
   "id": "9a6edd2e-a7b9-4b43-b7f9-20cf702c3634",
   "metadata": {},
   "outputs": [],
   "source": [
    "w = [1,3,'pizza',6,11.1]"
   ]
  },
  {
   "cell_type": "markdown",
   "id": "6c42b0e5-4c89-4617-a32c-5568a20a481d",
   "metadata": {},
   "source": [
    "Utilizando la función *range* para producir una lista de índices que se usan para consultar *w*, según la longitud de dicha lista: "
   ]
  },
  {
   "cell_type": "code",
   "execution_count": null,
   "id": "7ce62293-21b9-4109-8bcf-2b1d8fa0e7b0",
   "metadata": {},
   "outputs": [],
   "source": [
    "for i in range(len(w)):\n",
    "    print(w[i])"
   ]
  },
  {
   "cell_type": "markdown",
   "id": "6e7ba95a-5a9f-4220-b114-9624c74e91de",
   "metadata": {},
   "source": [
    "Iterando directamente sobre los valores de la lista:"
   ]
  },
  {
   "cell_type": "code",
   "execution_count": null,
   "id": "09faf3eb-6a32-4c45-abaf-8e5bbe6e620d",
   "metadata": {},
   "outputs": [],
   "source": [
    "for e in w:\n",
    "    print(e)"
   ]
  },
  {
   "cell_type": "markdown",
   "id": "fb5178bf-e2a6-4200-9ba5-6f3c192c6db2",
   "metadata": {},
   "source": [
    "Empleando el método *enumerate* para obtener tanto el índice como el valor de cada elemento de la lista:"
   ]
  },
  {
   "cell_type": "code",
   "execution_count": null,
   "id": "e21e90cd-9ad4-4b5d-a3ff-19440ae5f9a5",
   "metadata": {},
   "outputs": [],
   "source": [
    "for n, e in enumerate(w):\n",
    "    print(n, e)"
   ]
  },
  {
   "cell_type": "markdown",
   "id": "c5062c75-43f0-488e-b2df-4f22f6ded582",
   "metadata": {},
   "source": [
    "En el caso de un diccionario, como ya se mencionó, es posible iterar sobre las llaves directamente:"
   ]
  },
  {
   "cell_type": "code",
   "execution_count": null,
   "id": "a5025757-c6d3-468f-b778-b39b46135ee0",
   "metadata": {},
   "outputs": [],
   "source": [
    "d = {\"a\": 32, \"b\": 23, \"c\": 99, \"d\": 10}\n",
    "for k in d:\n",
    "    print(k, d[k])"
   ]
  },
  {
   "cell_type": "markdown",
   "id": "a39bbd7a-08f3-45f8-9f61-f2027787aa79",
   "metadata": {},
   "source": [
    "## Ciclo **while**\n",
    "\n",
    "Los ciclos *while* se usan para especificar un proceso iterativo que se repite *mientras* una condición sea verdadera. Normalmente la idea es que esta condición deje de cumplirse después de un número finito de iteraciones, lo cual marca el paro y la salida de la estructura de control."
   ]
  },
  {
   "cell_type": "code",
   "execution_count": null,
   "id": "26cba627-edd4-47b9-a540-8688a89f2f7b",
   "metadata": {},
   "outputs": [],
   "source": [
    "x = 0\n",
    "while x < 6:\n",
    "    print(x)\n",
    "    x = x+1"
   ]
  },
  {
   "cell_type": "markdown",
   "id": "875f0af2-4069-4f4a-bb75-0e6dfe5445a5",
   "metadata": {},
   "source": [
    "En el código anterior, el ciclo comienza con **x==0** que cumple la condición **x<6**. Cada vez que se ejecuta el bloque de código dentro del ciclo, el valor de la variable se incrementa en 1 hasta que **x==6** y la condición de la cabecera falla, marcando el final de la recursión. "
   ]
  },
  {
   "cell_type": "markdown",
   "id": "e0b6e768-2686-425a-8bf9-b02e99336cd3",
   "metadata": {},
   "source": [
    "## Contextos (**with**)\n",
    "\n",
    "Dentro de python, muchas veces es posible definir métodos especiales para los objetos con los que podemos lograr la información asignada a cierto objeto se borre al salir de un contexto, minimizando su **huella de memoria**. Este tipo de estructura es especialmente útil al procesar volúmenes grandes de datos ya que los recursos computacionales son siempre un factor limitante durante el cómputo al no ser posible guardar toda la información en RAM."
   ]
  },
  {
   "cell_type": "markdown",
   "id": "5065b29c-790b-4d5c-9b71-072bb11519b8",
   "metadata": {},
   "source": [
    "## Condicionales\n",
    "\n",
    "Los condicionales nos sirven para escribir partes del código que deberían ejecutarse únicamente cuando cierto enunciado es verdadero. Son también las estructuras que nos permiten modelar *casos* dentro de python, donde no existen *switches*. Existen únicamente 3 tipos de condicionales: **if**, **elif** y **else**, siendo el primero la forma simple del condicional, el segundo, un condicional que se usa cuando ya existen condiciones previas y el tercero, un condicional que marca la última condición de una serie con al menos una condición especificada:"
   ]
  },
  {
   "cell_type": "code",
   "execution_count": null,
   "id": "328120a7-527a-4408-9994-c27ba440d0cb",
   "metadata": {},
   "outputs": [],
   "source": [
    "z = 3"
   ]
  },
  {
   "cell_type": "code",
   "execution_count": null,
   "id": "a8ae06dd-751f-4817-ab46-d2e93f27dace",
   "metadata": {},
   "outputs": [],
   "source": [
    "if z > 2:\n",
    "    print(\"z mayor que 2\")"
   ]
  },
  {
   "cell_type": "code",
   "execution_count": null,
   "id": "c11d562f-6f0d-4b7c-80da-5346893d024f",
   "metadata": {},
   "outputs": [],
   "source": [
    "if z > 2:\n",
    "    print(\"z mayor que 2\")\n",
    "else:\n",
    "    print(\"z menor o igual que 2\")"
   ]
  },
  {
   "cell_type": "code",
   "execution_count": null,
   "id": "2ed2655a-b0d3-4fbf-aa51-7aa7fcf9f2fa",
   "metadata": {},
   "outputs": [],
   "source": [
    "if z > 2:\n",
    "    print(\"z mayor que 2\")\n",
    "elif z==2:\n",
    "    print(\"z igual que 2\")\n",
    "else:\n",
    "    print(\"z menor que 2\")"
   ]
  },
  {
   "cell_type": "markdown",
   "id": "bc45b272-8868-4b17-a5c6-db5a43d0ded0",
   "metadata": {
    "tags": []
   },
   "source": [
    "## Operadores lógicos\n",
    "\n",
    "Los operadores lógicos nos sirven para producir condiciones booleanas que son combinaciones y transformaciones de otras condiciones booleanas, logrando criterios complejos que se pueden usar de distintas maneras, algunas de las cuales ya fueron mencionadas (como un criterio de continuación/paro, por ejemplo)."
   ]
  },
  {
   "cell_type": "markdown",
   "id": "10067471-338d-428d-af40-2100f1a0a654",
   "metadata": {},
   "source": [
    "**not**: este operador *unario* es la negación lógica de un valor de verdad. Dado un valor de verdad, produce el contrario."
   ]
  },
  {
   "cell_type": "code",
   "execution_count": null,
   "id": "4a520fdc-11c7-424b-ab7f-190913b12e09",
   "metadata": {},
   "outputs": [],
   "source": [
    "print(not True)"
   ]
  },
  {
   "cell_type": "code",
   "execution_count": null,
   "id": "ef861a36-3e2b-4800-84bd-d370d20b1c0b",
   "metadata": {},
   "outputs": [],
   "source": [
    "print(not False)"
   ]
  },
  {
   "cell_type": "markdown",
   "id": "724f300f-6bd8-47cb-a913-54659b3af7af",
   "metadata": {},
   "source": [
    "**and**: este operador *binario* produce el valor de la *conjunción* lógica de los valores de entrada."
   ]
  },
  {
   "cell_type": "code",
   "execution_count": null,
   "id": "01e67f27-9d79-42e9-90b5-3990b3f30fdc",
   "metadata": {},
   "outputs": [],
   "source": [
    "print(True and True)"
   ]
  },
  {
   "cell_type": "code",
   "execution_count": null,
   "id": "e2e2ca7f-0df2-4b03-9b5e-e7a5cc9fb0e3",
   "metadata": {},
   "outputs": [],
   "source": [
    "print(True and False)"
   ]
  },
  {
   "cell_type": "code",
   "execution_count": null,
   "id": "c0130135-4a55-4391-b069-2b8dab885134",
   "metadata": {},
   "outputs": [],
   "source": [
    "print(False and False)"
   ]
  },
  {
   "cell_type": "markdown",
   "id": "2f3e16dc-a437-4bbc-8e7a-a4d28a850fb9",
   "metadata": {},
   "source": [
    "**or**: este operador *binario* produce el valor de la *disjunción* lógica de los valores de entrada."
   ]
  },
  {
   "cell_type": "code",
   "execution_count": null,
   "id": "3dc8be41-c931-4e40-8185-b86fae5414e3",
   "metadata": {},
   "outputs": [],
   "source": [
    "print(True or True)"
   ]
  },
  {
   "cell_type": "code",
   "execution_count": null,
   "id": "72b524da-b3cc-4018-80c6-059fb159a758",
   "metadata": {},
   "outputs": [],
   "source": [
    "print(True or False)"
   ]
  },
  {
   "cell_type": "code",
   "execution_count": null,
   "id": "50623751-3d05-4f44-8829-f030337d418c",
   "metadata": {},
   "outputs": [],
   "source": [
    "print(False or False)"
   ]
  },
  {
   "cell_type": "markdown",
   "id": "494397db-71c3-4f28-a23c-f99f9026d64a",
   "metadata": {},
   "source": [
    "## Funciones y clases"
   ]
  },
  {
   "cell_type": "code",
   "execution_count": null,
   "id": "6c4cf56d-36b6-4ba7-af44-fc1dbeee2809",
   "metadata": {},
   "outputs": [],
   "source": []
  }
 ],
 "metadata": {
  "kernelspec": {
   "display_name": "Python 3 (ipykernel)",
   "language": "python",
   "name": "python3"
  },
  "language_info": {
   "codemirror_mode": {
    "name": "ipython",
    "version": 3
   },
   "file_extension": ".py",
   "mimetype": "text/x-python",
   "name": "python",
   "nbconvert_exporter": "python",
   "pygments_lexer": "ipython3",
   "version": "3.8.10"
  }
 },
 "nbformat": 4,
 "nbformat_minor": 5
}
